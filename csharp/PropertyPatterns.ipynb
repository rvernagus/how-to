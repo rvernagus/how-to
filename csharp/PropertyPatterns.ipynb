{
 "cells": [
  {
   "cell_type": "code",
   "execution_count": 1,
   "metadata": {},
   "outputs": [],
   "source": [
    "public class Address\n",
    "{\n",
    "    public string State { get; set; }\n",
    "}"
   ]
  },
  {
   "cell_type": "code",
   "execution_count": 2,
   "metadata": {},
   "outputs": [],
   "source": [
    "public static decimal ComputeSalesTax(Address location, decimal salePrice) =>\n",
    "    location switch\n",
    "    {\n",
    "        { State: \"WA\" } => salePrice * 0.06M,\n",
    "        { State: \"MN\" } => salePrice * 0.75M,\n",
    "        { State: \"MI\" } => salePrice * 0.05M,\n",
    "        Address a when a.State.StartsWith(\"D\") => salePrice * 0.04M,\n",
    "        // other cases removed for brevity...\n",
    "        _ => 0M\n",
    "    };"
   ]
  },
  {
   "cell_type": "code",
   "execution_count": 3,
   "metadata": {},
   "outputs": [],
   "source": [
    "public static decimal ComputeSalesTax2(object location, decimal salePrice) =>\n",
    "    location switch\n",
    "    {\n",
    "        Address a => a.State switch\n",
    "        {\n",
    "            \"WA\" => salePrice * 0.06M,\n",
    "            \"MN\" => salePrice * 0.75M,\n",
    "            \"MI\" => salePrice * 0.05M,\n",
    "            // other cases removed for brevity...\n",
    "            _ => 0M\n",
    "        },\n",
    "        // { }  => \"Unknown location type\",\n",
    "        // null => \"Null location\",\n",
    "    };"
   ]
  },
  {
   "cell_type": "code",
   "execution_count": 4,
   "metadata": {},
   "outputs": [
    {
     "data": {
      "text/html": [
       "0.500"
      ]
     },
     "execution_count": 4,
     "metadata": {},
     "output_type": "execute_result"
    }
   ],
   "source": [
    "var mi = new Address { State = \"MI\" };\n",
    "ComputeSalesTax(mi, 10.0M)"
   ]
  },
  {
   "cell_type": "code",
   "execution_count": 5,
   "metadata": {},
   "outputs": [
    {
     "data": {
      "text/html": [
       "0.400"
      ]
     },
     "execution_count": 5,
     "metadata": {},
     "output_type": "execute_result"
    }
   ],
   "source": [
    "var da = new Address { State = \"DA\" };\n",
    "ComputeSalesTax(da, 10.0M)"
   ]
  },
  {
   "cell_type": "code",
   "execution_count": 8,
   "metadata": {},
   "outputs": [
    {
     "data": {
      "text/html": [
       "0.750"
      ]
     },
     "execution_count": 8,
     "metadata": {},
     "output_type": "execute_result"
    }
   ],
   "source": [
    "ComputeSalesTax2(mi, 15.0M)"
   ]
  },
  {
   "cell_type": "code",
   "execution_count": null,
   "metadata": {},
   "outputs": [],
   "source": []
  }
 ],
 "metadata": {
  "kernelspec": {
   "display_name": ".NET (C#)",
   "language": "C#",
   "name": ".net-csharp"
  },
  "language_info": {
   "file_extension": ".cs",
   "mimetype": "text/x-csharp",
   "name": "C#",
   "pygments_lexer": "csharp",
   "version": "8.0"
  }
 },
 "nbformat": 4,
 "nbformat_minor": 4
}

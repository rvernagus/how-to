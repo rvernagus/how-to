{
 "cells": [
  {
   "cell_type": "code",
   "execution_count": 1,
   "metadata": {},
   "outputs": [
    {
     "data": {
      "text/html": [
       "Installed package System.Threading.Channels version 5.0.0"
      ]
     },
     "metadata": {},
     "output_type": "display_data"
    }
   ],
   "source": [
    "#r \"nuget: System.Threading.Channels\"\n",
    "using System.Collections.Concurrent;\n",
    "using System.Linq;\n",
    "using System.Threading.Channels;\n",
    "using System.Threading.Tasks;"
   ]
  },
  {
   "cell_type": "markdown",
   "metadata": {},
   "source": [
    "### Bounded Channels are limited in how many message they can hold"
   ]
  },
  {
   "cell_type": "code",
   "execution_count": 2,
   "metadata": {},
   "outputs": [],
   "source": [
    "var channel = Channel.CreateBounded<int>(6);"
   ]
  },
  {
   "cell_type": "code",
   "execution_count": 3,
   "metadata": {},
   "outputs": [
    {
     "name": "stdout",
     "output_type": "stream",
     "text": [
      "Unsent messages [1]: 6,5\n",
      "Unsent messages [3]: 14,13\n",
      "Unsent messages [2]: 10,11,9,8\n",
      "Unsent messages [0]: 2,1\n"
     ]
    }
   ],
   "source": [
    "Parallel.ForEach(Enumerable.Range(0, 4), n1 =>\n",
    "{\n",
    "    var couldNotBeAdded = new ConcurrentQueue<int>();\n",
    "\n",
    "    Parallel.ForEach(Enumerable.Range(0, 4), n2 =>\n",
    "    {\n",
    "        if (!channel.Writer.TryWrite(n1 * 4 + n2))\n",
    "        {\n",
    "            couldNotBeAdded.Enqueue(n1 * 4 + n2);\n",
    "        }\n",
    "    });\n",
    "\n",
    "    Console.WriteLine($\"Unsent messages [{n1}]: {string.Join(\",\", couldNotBeAdded)}\");\n",
    "});\n",
    "\n",
    "Task.Delay(1000).ContinueWith(_ => channel.Writer.Complete());"
   ]
  },
  {
   "cell_type": "code",
   "execution_count": 4,
   "metadata": {},
   "outputs": [
    {
     "name": "stdout",
     "output_type": "stream",
     "text": [
      "Received messages:\n",
      "0\n",
      "4\n",
      "3\n",
      "7\n",
      "12\n",
      "15\n"
     ]
    }
   ],
   "source": [
    "Console.WriteLine(\"Received messages:\");\n",
    "await foreach (var message in channel.Reader.ReadAllAsync())\n",
    "{\n",
    "    Console.WriteLine(message);\n",
    "}"
   ]
  },
  {
   "cell_type": "markdown",
   "metadata": {},
   "source": [
    "### Unbounded Channels don't have these limits"
   ]
  },
  {
   "cell_type": "code",
   "execution_count": 6,
   "metadata": {},
   "outputs": [],
   "source": [
    "// Try with Unbounded versus Bounded\n",
    "var channel = Channel.CreateUnbounded<int>();"
   ]
  },
  {
   "cell_type": "code",
   "execution_count": 7,
   "metadata": {},
   "outputs": [
    {
     "name": "stdout",
     "output_type": "stream",
     "text": [
      "Unsent messages [3]: \n",
      "Unsent messages [0]: \n",
      "Unsent messages [2]: \n",
      "Unsent messages [1]: \n"
     ]
    }
   ],
   "source": [
    "Parallel.ForEach(Enumerable.Range(0, 4), n1 =>\n",
    "{\n",
    "    var couldNotBeAdded = new ConcurrentQueue<int>();\n",
    "\n",
    "    Parallel.ForEach(Enumerable.Range(0, 4), n2 =>\n",
    "    {\n",
    "        if (!channel.Writer.TryWrite(n1 * 4 + n2))\n",
    "        {\n",
    "            couldNotBeAdded.Enqueue(n1 * 4 + n2);\n",
    "        }\n",
    "    });\n",
    "\n",
    "    Console.WriteLine($\"Unsent messages [{n1}]: {string.Join(\",\", couldNotBeAdded)}\");\n",
    "});\n",
    "\n",
    "Task.Delay(1000).ContinueWith(_ => channel.Writer.Complete());"
   ]
  },
  {
   "cell_type": "code",
   "execution_count": 8,
   "metadata": {},
   "outputs": [
    {
     "name": "stdout",
     "output_type": "stream",
     "text": [
      "Received messages:\n",
      "12\n",
      "8\n",
      "0\n",
      "4\n",
      "5\n",
      "13\n",
      "9\n",
      "14\n",
      "15\n",
      "1\n",
      "2\n",
      "3\n",
      "6\n",
      "10\n",
      "11\n",
      "7\n"
     ]
    }
   ],
   "source": [
    "Console.WriteLine(\"Received messages:\");\n",
    "await foreach (var message in channel.Reader.ReadAllAsync())\n",
    "{\n",
    "    Console.WriteLine(message);\n",
    "}"
   ]
  },
  {
   "cell_type": "code",
   "execution_count": null,
   "metadata": {},
   "outputs": [],
   "source": []
  }
 ],
 "metadata": {
  "kernelspec": {
   "display_name": ".NET (C#)",
   "language": "C#",
   "name": ".net-csharp"
  },
  "language_info": {
   "file_extension": ".cs",
   "mimetype": "text/x-csharp",
   "name": "C#",
   "pygments_lexer": "csharp",
   "version": "8.0"
  }
 },
 "nbformat": 4,
 "nbformat_minor": 4
}

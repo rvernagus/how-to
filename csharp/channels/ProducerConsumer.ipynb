{
 "cells": [
  {
   "cell_type": "code",
   "execution_count": 1,
   "metadata": {},
   "outputs": [
    {
     "data": {
      "text/html": [
       "Installed package System.Threading.Channels version 5.0.0"
      ]
     },
     "metadata": {},
     "output_type": "display_data"
    }
   ],
   "source": [
    "#r \"nuget: System.Threading.Channels\"\n",
    "using System.Threading.Channels;\n",
    "using System.Threading.Tasks;\n",
    "using System.Linq;"
   ]
  },
  {
   "cell_type": "code",
   "execution_count": 2,
   "metadata": {},
   "outputs": [],
   "source": [
    "var channel = Channel.CreateUnbounded<string>(new UnboundedChannelOptions()\n",
    "{\n",
    "    SingleWriter = true,\n",
    "    SingleReader = true\n",
    "});"
   ]
  },
  {
   "cell_type": "code",
   "execution_count": 3,
   "metadata": {},
   "outputs": [
    {
     "name": "stdout",
     "output_type": "stream",
     "text": [
      "Writing #0\n",
      "Hello #0\n",
      "Writing #1\n",
      "Hello #1\n",
      "Writing #2\n",
      "Hello #2\n",
      "Writing #3\n",
      "Hello #3\n",
      "Writing #4\n",
      "Hello #4\n",
      "Writing #5\n",
      "Hello #5\n",
      "Writing #6\n",
      "Hello #6\n",
      "Writing #7\n",
      "Hello #7\n",
      "Writing #8\n",
      "Hello #8\n",
      "Writing #9\n",
      "Hello #9\n"
     ]
    }
   ],
   "source": [
    "var producer = Task.Run(() =>\n",
    "{\n",
    "    Enumerable.Range(0, 10).ToList().ForEach(async n =>\n",
    "    {\n",
    "        Console.WriteLine($\"Writing #{n}\");\n",
    "        await channel.Writer.WriteAsync($\"Hello #{n}\");\n",
    "        Task.Delay(1000).Wait();\n",
    "    });\n",
    "    channel.Writer.Complete();\n",
    "});\n",
    "\n",
    "var consumer = Task.Run(async () =>\n",
    "{\n",
    "    while (await channel.Reader.WaitToReadAsync())\n",
    "    {\n",
    "        if (channel.Reader.TryRead(out var message))\n",
    "        {\n",
    "            Console.WriteLine(message);\n",
    "        }\n",
    "    }\n",
    "});\n",
    "\n",
    "consumer.Wait();"
   ]
  },
  {
   "cell_type": "code",
   "execution_count": null,
   "metadata": {},
   "outputs": [],
   "source": []
  }
 ],
 "metadata": {
  "kernelspec": {
   "display_name": ".NET (C#)",
   "language": "C#",
   "name": ".net-csharp"
  },
  "language_info": {
   "file_extension": ".cs",
   "mimetype": "text/x-csharp",
   "name": "C#",
   "pygments_lexer": "csharp",
   "version": "8.0"
  }
 },
 "nbformat": 4,
 "nbformat_minor": 4
}

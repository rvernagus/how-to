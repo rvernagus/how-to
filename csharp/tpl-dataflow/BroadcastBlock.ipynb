{
 "cells": [
  {
   "cell_type": "code",
   "execution_count": 1,
   "metadata": {},
   "outputs": [
    {
     "data": {
      "text/html": [
       "Installing package System.Threading.Tasks.Dataflow, version 4.10.0......"
      ]
     },
     "metadata": {},
     "output_type": "display_data"
    }
   ],
   "source": [
    "#r \"nuget: System.Threading.Tasks.Dataflow, 4.10.0\"\n",
    "using System;\n",
    "using System.Threading;\n",
    "using System.Threading.Tasks;\n",
    "using System.Threading.Tasks.Dataflow;"
   ]
  },
  {
   "cell_type": "code",
   "execution_count": 2,
   "metadata": {},
   "outputs": [],
   "source": [
    "var broadcastBlock = new BroadcastBlock<int>(x => x);\n",
    "\n",
    "var actionBlock1 = new ActionBlock<int>(n =>\n",
    "    Console.WriteLine($\"Consumer1 received {n}...\"));\n",
    "\n",
    "var actionBlock2 = new ActionBlock<int>(n =>\n",
    "    Console.WriteLine($\"Consumer2 received {n}...\"));"
   ]
  },
  {
   "cell_type": "code",
   "execution_count": 3,
   "metadata": {},
   "outputs": [
    {
     "name": "stdout",
     "output_type": "stream",
     "text": [
      "Consumer1 received 1...\n",
      "Consumer2 received 1...\n",
      "Consumer2 received 2...\n",
      "Consumer1 received 2...\n",
      "Consumer1 received 3...\n",
      "Consumer2 received 3...\n",
      "Consumer1 received 4...\n",
      "Consumer2 received 4...\n",
      "Consumer1 received 5...\n",
      "Consumer2 received 5...\n",
      "Consumer1 received 6...\n",
      "Consumer2 received 6...\n",
      "Consumer2 received 7...\n",
      "Consumer1 received 7...\n",
      "Consumer1 received 8...\n",
      "Consumer2 received 8...\n",
      "Consumer1 received 9...\n",
      "Consumer2 received 9...\n",
      "Consumer1 received 10...\n",
      "Consumer2 received 10...\n",
      "Consumer1 received 11...\n",
      "Consumer2 received 11...\n"
     ]
    }
   ],
   "source": [
    "Task.Run(() =>\n",
    "{\n",
    "    var i = 0;\n",
    "    while (true)\n",
    "    {\n",
    "        Thread.Sleep(100);\n",
    "        if (i > 10) broadcastBlock.Complete();\n",
    "        i += 1;\n",
    "        broadcastBlock.Post(i);\n",
    "    }\n",
    "});\n",
    "\n",
    "broadcastBlock.LinkTo(actionBlock1);\n",
    "broadcastBlock.LinkTo(actionBlock2);\n",
    "broadcastBlock.Completion.Wait();"
   ]
  },
  {
   "cell_type": "code",
   "execution_count": null,
   "metadata": {},
   "outputs": [],
   "source": []
  }
 ],
 "metadata": {
  "kernelspec": {
   "display_name": ".NET (C#)",
   "language": "C#",
   "name": ".net-csharp"
  },
  "language_info": {
   "file_extension": ".cs",
   "mimetype": "text/x-csharp",
   "name": "C#",
   "pygments_lexer": "csharp",
   "version": "8.0"
  }
 },
 "nbformat": 4,
 "nbformat_minor": 4
}

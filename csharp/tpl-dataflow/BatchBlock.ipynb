{
 "cells": [
  {
   "cell_type": "code",
   "execution_count": 1,
   "metadata": {},
   "outputs": [
    {
     "data": {
      "text/html": [
       "Installing package System.Threading.Tasks.Dataflow, version 4.10.0......"
      ]
     },
     "metadata": {},
     "output_type": "display_data"
    }
   ],
   "source": [
    "#r \"nuget: System.Threading.Tasks.Dataflow, 4.10.0\"\n",
    "using System;\n",
    "using System.Runtime;\n",
    "using System.Threading;\n",
    "using System.Threading.Tasks;\n",
    "using System.Threading.Tasks.Dataflow;"
   ]
  },
  {
   "cell_type": "code",
   "execution_count": 2,
   "metadata": {},
   "outputs": [],
   "source": [
    "var batchBlock = new BatchBlock<int>(5);\n",
    "\n",
    "var actionBlock = new ActionBlock<int[]>(x => Console.WriteLine($\"Received {string.Join(\",\", x)}\"));"
   ]
  },
  {
   "cell_type": "code",
   "execution_count": 3,
   "metadata": {},
   "outputs": [
    {
     "name": "stdout",
     "output_type": "stream",
     "text": [
      "Posting 1...\n",
      "Posting 2...\n",
      "Posting 3...\n",
      "Posting 4...\n",
      "Posting 5...\n",
      "Received 1,2,3,4,5\n",
      "Posting 6...\n",
      "Posting 7...\n",
      "Posting 8...\n",
      "Posting 9...\n",
      "Posting 10...\n",
      "Received 6,7,8,9,10\n",
      "Posting 11...\n",
      "Posting 12...\n",
      "Posting 13...\n",
      "Posting 14...\n",
      "Posting 15...\n",
      "Received 11,12,13,14,15\n",
      "Posting 16...\n",
      "Received 16\n"
     ]
    }
   ],
   "source": [
    "Task.Run(() =>\n",
    "{\n",
    "    var i = 0;\n",
    "    while (true)\n",
    "    {\n",
    "        if (i > 15)  batchBlock.Complete();\n",
    "\n",
    "        Thread.Sleep(100);\n",
    "        i += 1;\n",
    "        Console.WriteLine($\"Posting {i}...\");\n",
    "        batchBlock.Post(i);\n",
    "    }\n",
    "});\n",
    "\n",
    "batchBlock.LinkTo(actionBlock);\n",
    "batchBlock.Completion.Wait();"
   ]
  },
  {
   "cell_type": "code",
   "execution_count": null,
   "metadata": {},
   "outputs": [],
   "source": []
  }
 ],
 "metadata": {
  "kernelspec": {
   "display_name": ".NET (C#)",
   "language": "C#",
   "name": ".net-csharp"
  },
  "language_info": {
   "file_extension": ".cs",
   "mimetype": "text/x-csharp",
   "name": "C#",
   "pygments_lexer": "csharp",
   "version": "8.0"
  }
 },
 "nbformat": 4,
 "nbformat_minor": 4
}

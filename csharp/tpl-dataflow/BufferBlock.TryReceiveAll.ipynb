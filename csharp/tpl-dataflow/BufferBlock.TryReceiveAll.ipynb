{
 "cells": [
  {
   "cell_type": "code",
   "execution_count": 1,
   "metadata": {},
   "outputs": [
    {
     "data": {
      "text/html": [
       "Installing package System.Threading.Tasks.Dataflow, version 4.10.0......"
      ]
     },
     "metadata": {},
     "output_type": "display_data"
    }
   ],
   "source": [
    "#r \"nuget: System.Threading.Tasks.Dataflow, 4.10.0\"\n",
    "using System;\n",
    "using System.Collections.Generic;\n",
    "using System.Threading;\n",
    "using System.Threading.Tasks;\n",
    "using System.Threading.Tasks.Dataflow;"
   ]
  },
  {
   "cell_type": "code",
   "execution_count": 8,
   "metadata": {},
   "outputs": [],
   "source": [
    "var bufferBlock = new BufferBlock<int>();"
   ]
  },
  {
   "cell_type": "code",
   "execution_count": 9,
   "metadata": {},
   "outputs": [],
   "source": [
    "Action producer = () =>\n",
    "{\n",
    "    var i = 0;\n",
    "    while (i <= 20)\n",
    "    {\n",
    "        Thread.Sleep(1000);\n",
    "        i += 1;\n",
    "        Console.WriteLine($\"Posting {i}...\");\n",
    "        bufferBlock.Post(i);\n",
    "    }\n",
    "};"
   ]
  },
  {
   "cell_type": "code",
   "execution_count": 10,
   "metadata": {},
   "outputs": [],
   "source": [
    "Action consumer = () =>\n",
    "{\n",
    "    var items = new List<int>() as IList<int>;\n",
    "    while (true)\n",
    "    {\n",
    "        Thread.Sleep(3500);\n",
    "        if (bufferBlock.TryReceiveAll(out items))\n",
    "            Console.WriteLine($\"Consumer received {string.Join(',', items)}...\");\n",
    "    }\n",
    "};"
   ]
  },
  {
   "cell_type": "code",
   "execution_count": 11,
   "metadata": {},
   "outputs": [
    {
     "name": "stdout",
     "output_type": "stream",
     "text": [
      "Posting 7...\n",
      "Posting 1...\n",
      "Posting 8...\n",
      "Posting 2...\n",
      "Posting 9...\n",
      "Posting 3...\n",
      "Posting 10...\n",
      "Consumer received 1,2,3...\n",
      "Posting 4...\n",
      "Posting 11...\n",
      "Posting 5...\n",
      "Posting 12...\n",
      "Posting 6...\n",
      "Posting 13...\n",
      "Consumer received 4,5,6...\n",
      "Posting 7...\n",
      "Posting 14...\n",
      "Posting 8...\n",
      "Posting 15...\n",
      "Posting 9...\n",
      "Posting 16...\n",
      "Posting 10...\n",
      "Posting 17...\n",
      "Consumer received 7,8,9,10...\n",
      "Posting 11...\n",
      "Posting 18...\n",
      "Posting 12...\n",
      "Posting 19...\n",
      "Posting 13...\n",
      "Posting 20...\n",
      "Consumer received 11,12,13...\n",
      "Posting 14...\n",
      "Posting 21...\n",
      "Posting 15...\n",
      "Posting 16...\n",
      "Posting 17...\n",
      "Consumer received 14,15,16,17...\n",
      "Posting 18...\n",
      "Posting 19...\n",
      "Posting 20...\n",
      "Consumer received 18,19,20...\n",
      "Posting 21...\n",
      "Consumer received 21...\n"
     ]
    }
   ],
   "source": [
    "Task.Factory.StartNew(producer).ContinueWith(_ => bufferBlock.Complete());\n",
    "Task.Factory.StartNew(consumer);\n",
    "bufferBlock.Completion.Wait();"
   ]
  },
  {
   "cell_type": "code",
   "execution_count": null,
   "metadata": {},
   "outputs": [],
   "source": []
  }
 ],
 "metadata": {
  "kernelspec": {
   "display_name": ".NET (C#)",
   "language": "C#",
   "name": ".net-csharp"
  },
  "language_info": {
   "file_extension": ".cs",
   "mimetype": "text/x-csharp",
   "name": "C#",
   "pygments_lexer": "csharp",
   "version": "8.0"
  }
 },
 "nbformat": 4,
 "nbformat_minor": 4
}

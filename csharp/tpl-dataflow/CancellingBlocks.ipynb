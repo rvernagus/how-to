{
 "cells": [
  {
   "cell_type": "code",
   "execution_count": 1,
   "metadata": {},
   "outputs": [
    {
     "data": {
      "text/html": [
       "Installing package System.Threading.Tasks.Dataflow, version 4.10.0......"
      ]
     },
     "metadata": {},
     "output_type": "display_data"
    }
   ],
   "source": [
    "#r \"nuget: System.Threading.Tasks.Dataflow, 4.10.0\"\n",
    "using System;\n",
    "using System.Threading;\n",
    "using System.Threading.Tasks;\n",
    "using System.Threading.Tasks.Dataflow;"
   ]
  },
  {
   "cell_type": "code",
   "execution_count": 2,
   "metadata": {},
   "outputs": [],
   "source": [
    "var cancellationSource = new CancellationTokenSource();\n",
    "var options = new ExecutionDataflowBlockOptions { CancellationToken = cancellationSource.Token };\n",
    "\n",
    "var actionBlock = new ActionBlock<int>(n =>\n",
    "{\n",
    "    Thread.Sleep(200);\n",
    "    Console.WriteLine($\"  Action on {n}...\");\n",
    "}, options);"
   ]
  },
  {
   "cell_type": "code",
   "execution_count": 3,
   "metadata": {},
   "outputs": [
    {
     "name": "stdout",
     "output_type": "stream",
     "text": [
      "Posting 1...\n",
      "Posting 2...\n",
      "  Action on 1...\n",
      "Posting 3...\n",
      "Posting 4...\n",
      "Posting 5...\n",
      "  Action on 2...\n",
      "Posting 6...\n",
      "  Action on 3...\n",
      "Posting 7...\n",
      "Posting 8...\n",
      "  Action on 4...\n",
      "Posting 9...\n",
      "Posting 10...\n",
      "  Action on 5...\n",
      "Posting 11...\n",
      "Posting 12...\n",
      "  Action on 6...\n",
      "Posting 13...\n",
      "Posting 14...\n",
      "  Action on 7...\n"
     ]
    },
    {
     "ename": "Unhandled exception",
     "evalue": "System.AggregateException: One or more errors occurred. (A task was canceled.)\r\n ---> System.Threading.Tasks.TaskCanceledException: A task was canceled.\r\n   --- End of inner exception stack trace ---\r\n   at System.Threading.Tasks.Task.ThrowIfExceptional(Boolean includeTaskCanceledExceptions)\r\n   at System.Threading.Tasks.Task.Wait(Int32 millisecondsTimeout, CancellationToken cancellationToken)\r\n   at System.Threading.Tasks.Task.Wait()\r\n   at Submission#5.<<Initialize>>d__0.MoveNext()\r\n--- End of stack trace from previous location where exception was thrown ---\r\n   at Microsoft.CodeAnalysis.Scripting.ScriptExecutionState.RunSubmissionsAsync[TResult](ImmutableArray`1 precedingExecutors, Func`2 currentExecutor, StrongBox`1 exceptionHolderOpt, Func`2 catchExceptionOpt, CancellationToken cancellationToken)",
     "output_type": "error",
     "traceback": [
      "System.AggregateException: One or more errors occurred. (A task was canceled.)\r\n ---> System.Threading.Tasks.TaskCanceledException: A task was canceled.\r\n   --- End of inner exception stack trace ---\r\n   at System.Threading.Tasks.Task.ThrowIfExceptional(Boolean includeTaskCanceledExceptions)\r\n   at System.Threading.Tasks.Task.Wait(Int32 millisecondsTimeout, CancellationToken cancellationToken)\r\n   at System.Threading.Tasks.Task.Wait()\r\n   at Submission#5.<<Initialize>>d__0.MoveNext()\r\n--- End of stack trace from previous location where exception was thrown ---\r\n   at Microsoft.CodeAnalysis.Scripting.ScriptExecutionState.RunSubmissionsAsync[TResult](ImmutableArray`1 precedingExecutors, Func`2 currentExecutor, StrongBox`1 exceptionHolderOpt, Func`2 catchExceptionOpt, CancellationToken cancellationToken)",
      "   at System.Threading.Tasks.Task.ThrowIfExceptional(Boolean includeTaskCanceledExceptions)",
      "   at System.Threading.Tasks.Task.Wait(Int32 millisecondsTimeout, CancellationToken cancellationToken)",
      "   at System.Threading.Tasks.Task.Wait()",
      "   at Submission#5.<<Initialize>>d__0.MoveNext()",
      "--- End of stack trace from previous location where exception was thrown ---",
      "   at Microsoft.CodeAnalysis.Scripting.ScriptExecutionState.RunSubmissionsAsync[TResult](ImmutableArray`1 precedingExecutors, Func`2 currentExecutor, StrongBox`1 exceptionHolderOpt, Func`2 catchExceptionOpt, CancellationToken cancellationToken)"
     ]
    }
   ],
   "source": [
    "Task.Run(() =>\n",
    "{\n",
    "    Thread.Sleep(1500);\n",
    "    cancellationSource.Cancel();\n",
    "});\n",
    "\n",
    "Task.Run(() =>\n",
    "{\n",
    "    var i = 0;\n",
    "    while (true)\n",
    "    {\n",
    "        Thread.Sleep(100);\n",
    "        i += 1;\n",
    "        Console.WriteLine($\"Posting {i}...\");\n",
    "        actionBlock.Post(i);\n",
    "    }\n",
    "});\n",
    "\n",
    "actionBlock.Completion.Wait();"
   ]
  },
  {
   "cell_type": "code",
   "execution_count": null,
   "metadata": {},
   "outputs": [],
   "source": []
  }
 ],
 "metadata": {
  "kernelspec": {
   "display_name": ".NET (C#)",
   "language": "C#",
   "name": ".net-csharp"
  },
  "language_info": {
   "file_extension": ".cs",
   "mimetype": "text/x-csharp",
   "name": "C#",
   "pygments_lexer": "csharp",
   "version": "8.0"
  }
 },
 "nbformat": 4,
 "nbformat_minor": 4
}

{
 "cells": [
  {
   "cell_type": "code",
   "execution_count": 1,
   "metadata": {},
   "outputs": [
    {
     "data": {
      "text/html": [
       "Installing package System.Threading.Tasks.Dataflow, version 4.10.0......"
      ]
     },
     "metadata": {},
     "output_type": "display_data"
    }
   ],
   "source": [
    "#r \"nuget: System.Threading.Tasks.Dataflow, 4.10.0\"\n",
    "using System;\n",
    "using System.Threading;\n",
    "using System.Threading.Tasks;\n",
    "using System.Threading.Tasks.Dataflow;"
   ]
  },
  {
   "cell_type": "code",
   "execution_count": 2,
   "metadata": {},
   "outputs": [],
   "source": [
    "var bufferBlock = new BufferBlock<int>();"
   ]
  },
  {
   "cell_type": "code",
   "execution_count": 3,
   "metadata": {},
   "outputs": [],
   "source": [
    "var options = new ExecutionDataflowBlockOptions { MaxDegreeOfParallelism = 1 };\n",
    "\n",
    "var actionBlock = new ActionBlock<int>(n =>\n",
    "{\n",
    "    Thread.Sleep(1200);\n",
    "    Console.WriteLine($\"  Received {n}...\");\n",
    "}, options);"
   ]
  },
  {
   "cell_type": "code",
   "execution_count": 4,
   "metadata": {},
   "outputs": [
    {
     "name": "stdout",
     "output_type": "stream",
     "text": [
      "Posting 1 : True\n",
      "  bufferBlock.Count: 0\n",
      "  actionBlock.InputCount: 0\n",
      "Posting 2 : True\n",
      "  bufferBlock.Count: 0\n",
      "  actionBlock.InputCount: 1\n",
      "  Received 1...\n",
      "Posting 3 : True\n",
      "  bufferBlock.Count: 0\n",
      "  actionBlock.InputCount: 1\n",
      "Posting 4 : True\n",
      "  bufferBlock.Count: 0\n",
      "  actionBlock.InputCount: 2\n",
      "  Received 2...\n",
      "Posting 5 : True\n",
      "  bufferBlock.Count: 0\n",
      "  actionBlock.InputCount: 2\n",
      "Posting 6 : True\n",
      "  bufferBlock.Count: 0\n",
      "  actionBlock.InputCount: 3\n",
      "  Received 3...\n",
      "Posting 7 : True\n",
      "  bufferBlock.Count: 0\n",
      "  actionBlock.InputCount: 3\n",
      "Posting 8 : True\n",
      "  bufferBlock.Count: 0\n",
      "  actionBlock.InputCount: 4\n",
      "  Received 4...\n",
      "Posting 9 : True\n",
      "  bufferBlock.Count: 0\n",
      "  actionBlock.InputCount: 4\n",
      "Posting 10 : True\n",
      "  bufferBlock.Count: 0\n",
      "  actionBlock.InputCount: 5\n",
      "  Received 5...\n",
      "Posting 11 : True\n",
      "  bufferBlock.Count: 0\n",
      "  actionBlock.InputCount: 5\n",
      "Posting 12 : False\n",
      "  bufferBlock.Count: 0\n",
      "  actionBlock.InputCount: 5\n",
      "  Received 6...\n",
      "Posting 13 : False\n",
      "  bufferBlock.Count: 0\n",
      "  actionBlock.InputCount: 4\n",
      "Posting 14 : False\n",
      "  bufferBlock.Count: 0\n",
      "  actionBlock.InputCount: 4\n",
      "  Received 7...\n",
      "Posting 15 : False\n",
      "  bufferBlock.Count: 0\n",
      "  actionBlock.InputCount: 3\n",
      "Posting 16 : False\n",
      "  bufferBlock.Count: 0\n",
      "  actionBlock.InputCount: 3\n",
      "  Received 8...\n",
      "Posting 17 : False\n",
      "  bufferBlock.Count: 0\n",
      "  actionBlock.InputCount: 2\n",
      "Posting 18 : False\n",
      "  bufferBlock.Count: 0\n",
      "  actionBlock.InputCount: 2\n",
      "  Received 9...\n",
      "Posting 19 : False\n",
      "  bufferBlock.Count: 0\n",
      "  actionBlock.InputCount: 1\n",
      "Posting 20 : False\n",
      "  bufferBlock.Count: 0\n",
      "  actionBlock.InputCount: 1\n",
      "  Received 10...\n",
      "Posting 21 : False\n",
      "  bufferBlock.Count: 0\n",
      "  actionBlock.InputCount: 0\n",
      "Posting 22 : False\n",
      "  bufferBlock.Count: 0\n",
      "  actionBlock.InputCount: 0\n",
      "  Received 11...\n"
     ]
    }
   ],
   "source": [
    "Task.Run(() =>\n",
    "{\n",
    "    var i = 0;\n",
    "    while (true)\n",
    "    {\n",
    "        if (i > 10) bufferBlock.Complete();\n",
    "        Thread.Sleep(600);\n",
    "        i += 1;\n",
    "        Console.WriteLine($\"Posting {i} : {bufferBlock.Post(i)}\");\n",
    "        Console.WriteLine($\"  bufferBlock.Count: {bufferBlock.Count}\");\n",
    "        Console.WriteLine($\"  actionBlock.InputCount: {actionBlock.InputCount}\");\n",
    "    }\n",
    "});\n",
    "\n",
    "var linkOptions = new DataflowLinkOptions { PropagateCompletion = true };\n",
    "\n",
    "bufferBlock.LinkTo(actionBlock, linkOptions);\n",
    "actionBlock.Completion.Wait();"
   ]
  },
  {
   "cell_type": "code",
   "execution_count": null,
   "metadata": {},
   "outputs": [],
   "source": []
  }
 ],
 "metadata": {
  "kernelspec": {
   "display_name": ".NET (C#)",
   "language": "C#",
   "name": ".net-csharp"
  },
  "language_info": {
   "file_extension": ".cs",
   "mimetype": "text/x-csharp",
   "name": "C#",
   "pygments_lexer": "csharp",
   "version": "8.0"
  }
 },
 "nbformat": 4,
 "nbformat_minor": 4
}

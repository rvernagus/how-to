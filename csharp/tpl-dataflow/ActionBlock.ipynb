{
 "cells": [
  {
   "cell_type": "code",
   "execution_count": 1,
   "metadata": {},
   "outputs": [
    {
     "data": {
      "text/html": [
       "Installing package System.Threading.Tasks.Dataflow, version 4.10.0............."
      ]
     },
     "metadata": {},
     "output_type": "display_data"
    }
   ],
   "source": [
    "#r \"nuget: System.Threading.Tasks.Dataflow, 4.10.0\"\n",
    "using System;\n",
    "using System.Threading;\n",
    "using System.Threading.Tasks;\n",
    "using System.Threading.Tasks.Dataflow;"
   ]
  },
  {
   "cell_type": "code",
   "execution_count": 2,
   "metadata": {},
   "outputs": [],
   "source": [
    "var actionBlock = new ActionBlock<int>(x => Console.WriteLine($\"  Action on {x}...\"));"
   ]
  },
  {
   "cell_type": "code",
   "execution_count": 4,
   "metadata": {},
   "outputs": [
    {
     "name": "stdout",
     "output_type": "stream",
     "text": [
      "Posting 1...\n",
      "  Action on 1...\n",
      "Posting 2...\n",
      "  Action on 2...\n",
      "Posting 3...\n",
      "  Action on 3...\n",
      "Posting 4...\n",
      "  Action on 4...\n",
      "Posting 5...\n",
      "  Action on 5...\n",
      "Posting 6...\n",
      "  Action on 6...\n"
     ]
    }
   ],
   "source": [
    "Task.Run(() =>\n",
    "{\n",
    "    var i = 0;\n",
    "    while (true)\n",
    "    {\n",
    "        if (i > 5) actionBlock.Complete();\n",
    "\n",
    "        Thread.Sleep(1000);\n",
    "        i += 1;\n",
    "        Console.WriteLine($\"Posting {i}...\");\n",
    "        actionBlock.Post(i);\n",
    "    }\n",
    "});\n",
    "\n",
    "actionBlock.Completion.Wait();"
   ]
  },
  {
   "cell_type": "code",
   "execution_count": null,
   "metadata": {},
   "outputs": [],
   "source": []
  }
 ],
 "metadata": {
  "kernelspec": {
   "display_name": ".NET (C#)",
   "language": "C#",
   "name": ".net-csharp"
  },
  "language_info": {
   "file_extension": ".cs",
   "mimetype": "text/x-csharp",
   "name": "C#",
   "pygments_lexer": "csharp",
   "version": "8.0"
  }
 },
 "nbformat": 4,
 "nbformat_minor": 4
}

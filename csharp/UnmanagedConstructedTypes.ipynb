{
 "cells": [
  {
   "cell_type": "code",
   "execution_count": 1,
   "metadata": {},
   "outputs": [],
   "source": [
    "public struct Coords<T>\n",
    "{\n",
    "    public T X;\n",
    "    public T Y;\n",
    "}"
   ]
  },
  {
   "cell_type": "code",
   "execution_count": 2,
   "metadata": {},
   "outputs": [],
   "source": [
    "public class UnmanagedTypes\n",
    "{\n",
    "    public static void Main()\n",
    "    {\n",
    "        DisplaySize<Coords<int>>();\n",
    "        DisplaySize<Coords<double>>();\n",
    "    }\n",
    "\n",
    "    private unsafe static void DisplaySize<T>() where T : unmanaged\n",
    "    {\n",
    "        Console.WriteLine($\"{typeof(T)} is unmanaged and its size is {sizeof(T)} bytes\");\n",
    "    }\n",
    "}\n"
   ]
  },
  {
   "cell_type": "code",
   "execution_count": 3,
   "metadata": {},
   "outputs": [
    {
     "ename": "Unhandled exception",
     "evalue": "(1,1): error CS8345: Field or auto-implemented property cannot be of type 'Span<Coords<int>>' unless it is an instance member of a ref struct.",
     "output_type": "error",
     "traceback": [
      "(1,1): error CS8345: Field or auto-implemented property cannot be of type 'Span<Coords<int>>' unless it is an instance member of a ref struct."
     ]
    }
   ],
   "source": [
    "Span<Coords<int>> coordinates = stackalloc[]\n",
    "{\n",
    "    new Coords<int> { X = 0, Y = 0 },\n",
    "    new Coords<int> { X = 0, Y = 3 },\n",
    "    new Coords<int> { X = 4, Y = 0}\n",
    "};"
   ]
  },
  {
   "cell_type": "code",
   "execution_count": 4,
   "metadata": {},
   "outputs": [
    {
     "name": "stdout",
     "output_type": "stream",
     "text": [
      "Submission#3+Coords`1[System.Int32] is unmanaged and its size is 8 bytes\n",
      "Submission#3+Coords`1[System.Double] is unmanaged and its size is 16 bytes\n"
     ]
    }
   ],
   "source": [
    "UnmanagedTypes.Main()"
   ]
  },
  {
   "cell_type": "code",
   "execution_count": null,
   "metadata": {},
   "outputs": [],
   "source": []
  }
 ],
 "metadata": {
  "kernelspec": {
   "display_name": ".NET (C#)",
   "language": "C#",
   "name": ".net-csharp"
  },
  "language_info": {
   "file_extension": ".cs",
   "mimetype": "text/x-csharp",
   "name": "C#",
   "pygments_lexer": "csharp",
   "version": "8.0"
  }
 },
 "nbformat": 4,
 "nbformat_minor": 4
}

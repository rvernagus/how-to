{
 "cells": [
  {
   "cell_type": "code",
   "execution_count": 1,
   "metadata": {},
   "outputs": [],
   "source": [
    "public struct RGBColor\n",
    "{\n",
    "    public RGBColor(byte red, byte green, byte blue)\n",
    "    {\n",
    "        Red = red;\n",
    "        Green = green;\n",
    "        Blue = blue;\n",
    "    }\n",
    "\n",
    "    public byte Red { get; set; }\n",
    "    public byte Green { get; set; }\n",
    "    public byte Blue { get; set; }\n",
    "}"
   ]
  },
  {
   "cell_type": "code",
   "execution_count": 2,
   "metadata": {},
   "outputs": [],
   "source": [
    "public enum Rainbow\n",
    "{\n",
    "    Red,\n",
    "    Orange,\n",
    "    Yellow,\n",
    "    Green,\n",
    "    Blue,\n",
    "    Indigo,\n",
    "    Violet\n",
    "}"
   ]
  },
  {
   "cell_type": "code",
   "execution_count": 3,
   "metadata": {},
   "outputs": [],
   "source": [
    "public static RGBColor FromRainbow(Rainbow colorBand) =>\n",
    "    colorBand switch\n",
    "    {\n",
    "        Rainbow.Red    => new RGBColor(0xFF, 0x00, 0x00),\n",
    "        Rainbow.Orange => new RGBColor(0xFF, 0x7F, 0x00),\n",
    "        Rainbow.Yellow => new RGBColor(0xFF, 0xFF, 0x00),\n",
    "        Rainbow.Green  => new RGBColor(0x00, 0xFF, 0x00),\n",
    "        Rainbow.Blue   => new RGBColor(0x00, 0x00, 0xFF),\n",
    "        Rainbow.Indigo => new RGBColor(0x4B, 0x00, 0x82),\n",
    "        Rainbow.Violet => new RGBColor(0x94, 0x00, 0xD3),\n",
    "        _              => throw new ArgumentException(message: \"invalid enum value\", paramName: nameof(colorBand)),\n",
    "    };"
   ]
  },
  {
   "cell_type": "code",
   "execution_count": 4,
   "metadata": {},
   "outputs": [
    {
     "data": {
      "text/html": [
       "<table><thead><tr><th>Red</th><th>Green</th><th>Blue</th></tr></thead><tbody><tr><td>255</td><td>127</td><td>0</td></tr></tbody></table>"
      ]
     },
     "execution_count": 4,
     "metadata": {},
     "output_type": "execute_result"
    }
   ],
   "source": [
    "var result = FromRainbow(Rainbow.Orange);\n",
    "result"
   ]
  },
  {
   "cell_type": "code",
   "execution_count": null,
   "metadata": {},
   "outputs": [],
   "source": []
  }
 ],
 "metadata": {
  "kernelspec": {
   "display_name": ".NET (C#)",
   "language": "C#",
   "name": ".net-csharp"
  },
  "language_info": {
   "file_extension": ".cs",
   "mimetype": "text/x-csharp",
   "name": "C#",
   "pygments_lexer": "csharp",
   "version": "8.0"
  }
 },
 "nbformat": 4,
 "nbformat_minor": 4
}

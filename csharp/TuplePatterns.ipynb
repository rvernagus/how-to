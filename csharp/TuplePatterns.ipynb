{
 "cells": [
  {
   "cell_type": "code",
   "execution_count": 1,
   "metadata": {},
   "outputs": [],
   "source": [
    "public static string RockPaperScissors(string first, string second) =>\n",
    "    (first, second) switch\n",
    "    {\n",
    "        (\"rock\", \"paper\") => \"rock is covered by paper. Paper wins.\",\n",
    "        (\"rock\", \"scissors\") => \"rock breaks scissors. Rock wins.\",\n",
    "        (\"paper\", \"rock\") => \"paper covers rock. Paper wins.\",\n",
    "        (\"paper\", \"scissors\") => \"paper is cut by scissors. Scissors wins.\",\n",
    "        (\"scissors\", \"rock\") => \"scissors is broken by rock. Rock wins.\",\n",
    "        (\"scissors\", \"paper\") => \"scissors cuts paper. Scissors wins.\",\n",
    "        (_, _) => \"tie\"\n",
    "    };"
   ]
  },
  {
   "cell_type": "code",
   "execution_count": 2,
   "metadata": {},
   "outputs": [
    {
     "data": {
      "text/plain": [
       "rock is covered by paper. Paper wins."
      ]
     },
     "execution_count": 2,
     "metadata": {},
     "output_type": "execute_result"
    }
   ],
   "source": [
    "RockPaperScissors(\"rock\", \"paper\")"
   ]
  },
  {
   "cell_type": "code",
   "execution_count": 3,
   "metadata": {},
   "outputs": [
    {
     "data": {
      "text/plain": [
       "rock breaks scissors. Rock wins."
      ]
     },
     "execution_count": 3,
     "metadata": {},
     "output_type": "execute_result"
    }
   ],
   "source": [
    "RockPaperScissors(\"rock\", \"scissors\")"
   ]
  },
  {
   "cell_type": "code",
   "execution_count": 4,
   "metadata": {},
   "outputs": [
    {
     "data": {
      "text/plain": [
       "tie"
      ]
     },
     "execution_count": 4,
     "metadata": {},
     "output_type": "execute_result"
    }
   ],
   "source": [
    "RockPaperScissors(\"rock\", \"rock\")"
   ]
  },
  {
   "cell_type": "code",
   "execution_count": null,
   "metadata": {},
   "outputs": [],
   "source": []
  }
 ],
 "metadata": {
  "kernelspec": {
   "display_name": ".NET (C#)",
   "language": "C#",
   "name": ".net-csharp"
  },
  "language_info": {
   "file_extension": ".cs",
   "mimetype": "text/x-csharp",
   "name": "C#",
   "pygments_lexer": "csharp",
   "version": "8.0"
  }
 },
 "nbformat": 4,
 "nbformat_minor": 4
}

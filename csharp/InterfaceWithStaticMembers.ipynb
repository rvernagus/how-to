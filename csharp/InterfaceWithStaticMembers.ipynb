{
 "cells": [
  {
   "cell_type": "code",
   "execution_count": 1,
   "metadata": {},
   "outputs": [],
   "source": [
    "interface IGreetable\n",
    "{\n",
    "    private static string greeting = \"Default Greeting\";\n",
    "\n",
    "    static void SetGreeting(string newGreeting)\n",
    "    {\n",
    "        greeting = newGreeting;\n",
    "    }\n",
    "\n",
    "    public void Greet()\n",
    "    {\n",
    "        Console.WriteLine(greeting);\n",
    "    }\n",
    "}"
   ]
  },
  {
   "cell_type": "code",
   "execution_count": 2,
   "metadata": {},
   "outputs": [],
   "source": [
    "public class DefaultGreeter : IGreetable {}\n",
    "\n",
    "class CustomGreetingGreeter : IGreetable\n",
    "{\n",
    "    public CustomGreetingGreeter(string greeting)\n",
    "    {\n",
    "        IGreetable.SetGreeting(greeting);\n",
    "    }\n",
    "}\n",
    "\n",
    "class OverrideGreeter : IGreetable\n",
    "{\n",
    "    public void Greet()\n",
    "    {\n",
    "        Console.WriteLine(\"I just do my own thang!\");\n",
    "    }\n",
    "}"
   ]
  },
  {
   "cell_type": "code",
   "execution_count": 3,
   "metadata": {},
   "outputs": [
    {
     "name": "stdout",
     "output_type": "stream",
     "text": [
      "Default Greeting\n"
     ]
    }
   ],
   "source": [
    "var defaultGreeter = new DefaultGreeter() as IGreetable;\n",
    "defaultGreeter.Greet()"
   ]
  },
  {
   "cell_type": "code",
   "execution_count": 4,
   "metadata": {},
   "outputs": [
    {
     "name": "stdout",
     "output_type": "stream",
     "text": [
      "Custom Greeting!\n"
     ]
    }
   ],
   "source": [
    "var customGreeter = new CustomGreetingGreeter(\"Custom Greeting!\") as IGreetable;\n",
    "customGreeter.Greet()"
   ]
  },
  {
   "cell_type": "code",
   "execution_count": 5,
   "metadata": {},
   "outputs": [
    {
     "name": "stdout",
     "output_type": "stream",
     "text": [
      "I just do my own thang!\n"
     ]
    }
   ],
   "source": [
    "var overrideGreeter = new OverrideGreeter() as IGreetable;\n",
    "\n",
    "overrideGreeter.Greet()"
   ]
  },
  {
   "cell_type": "code",
   "execution_count": null,
   "metadata": {},
   "outputs": [],
   "source": []
  }
 ],
 "metadata": {
  "kernelspec": {
   "display_name": ".NET (C#)",
   "language": "C#",
   "name": ".net-csharp"
  },
  "language_info": {
   "file_extension": ".cs",
   "mimetype": "text/x-csharp",
   "name": "C#",
   "pygments_lexer": "csharp",
   "version": "8.0"
  }
 },
 "nbformat": 4,
 "nbformat_minor": 4
}

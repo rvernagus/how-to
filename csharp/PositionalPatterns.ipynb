{
 "cells": [
  {
   "cell_type": "code",
   "execution_count": 1,
   "metadata": {},
   "outputs": [],
   "source": [
    "public class Point\n",
    "{\n",
    "    public int X { get; }\n",
    "    public int Y { get; }\n",
    "\n",
    "    public Point(int x, int y) => (X, Y) = (x, y);\n",
    "\n",
    "    public void Deconstruct(out int x, out int y) =>\n",
    "        (x, y) = (X, Y);\n",
    "}"
   ]
  },
  {
   "cell_type": "code",
   "execution_count": 2,
   "metadata": {},
   "outputs": [],
   "source": [
    "public enum Quadrant\n",
    "{\n",
    "    Unknown,\n",
    "    Origin,\n",
    "    One,\n",
    "    Two,\n",
    "    Three,\n",
    "    Four,\n",
    "    OnBorder\n",
    "}"
   ]
  },
  {
   "cell_type": "code",
   "execution_count": 3,
   "metadata": {},
   "outputs": [],
   "source": [
    "static Quadrant GetQuadrant(Point point) =>\n",
    "    point switch\n",
    "    {\n",
    "        (0, 0) => Quadrant.Origin,\n",
    "        var (x, y) when x > 0 && y > 0 => Quadrant.One,\n",
    "        var (x, y) when x < 0 && y > 0 => Quadrant.Two,\n",
    "        var (x, y) when x < 0 && y < 0 => Quadrant.Three,\n",
    "        var (x, y) when x > 0 && y < 0 => Quadrant.Four,\n",
    "        var (_, _) => Quadrant.OnBorder,\n",
    "        _ => Quadrant.Unknown\n",
    "    };"
   ]
  },
  {
   "cell_type": "code",
   "execution_count": 4,
   "metadata": {},
   "outputs": [
    {
     "data": {
      "text/html": [
       "<table><thead><tr><th>value__</th></tr></thead><tbody><tr><td>5</td></tr></tbody></table>"
      ]
     },
     "execution_count": 4,
     "metadata": {},
     "output_type": "execute_result"
    }
   ],
   "source": [
    "GetQuadrant(new Point(1, -1))"
   ]
  },
  {
   "cell_type": "code",
   "execution_count": 5,
   "metadata": {},
   "outputs": [
    {
     "data": {
      "text/html": [
       "<table><thead><tr><th>value__</th></tr></thead><tbody><tr><td>4</td></tr></tbody></table>"
      ]
     },
     "execution_count": 5,
     "metadata": {},
     "output_type": "execute_result"
    }
   ],
   "source": [
    "GetQuadrant(new Point(-1, -1))"
   ]
  },
  {
   "cell_type": "code",
   "execution_count": null,
   "metadata": {},
   "outputs": [],
   "source": []
  }
 ],
 "metadata": {
  "kernelspec": {
   "display_name": ".NET (C#)",
   "language": "C#",
   "name": ".net-csharp"
  },
  "language_info": {
   "name": ""
  }
 },
 "nbformat": 4,
 "nbformat_minor": 4
}

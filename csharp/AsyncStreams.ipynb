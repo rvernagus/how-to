{
 "cells": [
  {
   "cell_type": "code",
   "execution_count": 1,
   "metadata": {},
   "outputs": [],
   "source": [
    "async static IAsyncEnumerable<string> EnumerateFamily()\n",
    "{\n",
    "    var names = new[] { \"Ray\", \"Karenn\", \"Ari\", \"Rahm\" };\n",
    "    foreach (var name in names)\n",
    "    {\n",
    "        await Task.Delay(1000);\n",
    "        yield return name;\n",
    "    }\n",
    "}"
   ]
  },
  {
   "cell_type": "code",
   "execution_count": 2,
   "metadata": {},
   "outputs": [
    {
     "name": "stdout",
     "output_type": "stream",
     "text": [
      "Ray\n",
      "Karenn\n",
      "Ari\n",
      "Rahm\n"
     ]
    }
   ],
   "source": [
    "await foreach (var name in EnumerateFamily())\n",
    "{\n",
    "    Console.WriteLine(name);\n",
    "}"
   ]
  },
  {
   "cell_type": "code",
   "execution_count": null,
   "metadata": {},
   "outputs": [],
   "source": []
  }
 ],
 "metadata": {
  "kernelspec": {
   "display_name": ".NET (C#)",
   "language": "C#",
   "name": ".net-csharp"
  },
  "language_info": {
   "file_extension": ".cs",
   "mimetype": "text/x-csharp",
   "name": "C#",
   "pygments_lexer": "csharp",
   "version": "8.0"
  }
 },
 "nbformat": 4,
 "nbformat_minor": 4
}

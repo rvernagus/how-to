{
 "cells": [
  {
   "cell_type": "code",
   "execution_count": 3,
   "metadata": {},
   "outputs": [
    {
     "ename": "Unhandled exception",
     "evalue": "(11,9): error CS1604: Cannot assign to 'X' because it is read-only\r\n(12,9): error CS1604: Cannot assign to 'Y' because it is read-only",
     "output_type": "error",
     "traceback": [
      "(11,9): error CS1604: Cannot assign to 'X' because it is read-only\r\n(12,9): error CS1604: Cannot assign to 'Y' because it is read-only"
     ]
    }
   ],
   "source": [
    "public struct Point\n",
    "{\n",
    "    public double X { get; set; }\n",
    "    public double Y { get; set; }\n",
    "    // Add/remove readonly declaration to see compiler warning\n",
    "    public readonly double Distance => Math.Sqrt(X * X + Y * Y);\n",
    "\n",
    "    // Will not compile as long as X and Y are writeable\n",
    "    public readonly void Translate(int xOffset, int yOffset)\n",
    "    {\n",
    "        X += xOffset;\n",
    "        Y += yOffset;\n",
    "    }\n",
    "\n",
    "    public readonly override string ToString() =>\n",
    "        $\"({X}, {Y}) is {Distance} from the origin\";\n",
    "}"
   ]
  },
  {
   "cell_type": "code",
   "execution_count": 5,
   "metadata": {},
   "outputs": [
    {
     "data": {
      "text/html": [
       "<table><thead><tr><th>X</th><th>Y</th><th>Distance</th></tr></thead><tbody><tr><td>1</td><td>-1</td><td>1.4142135623730951</td></tr></tbody></table>"
      ]
     },
     "execution_count": 5,
     "metadata": {},
     "output_type": "execute_result"
    }
   ],
   "source": [
    "var point = new Point();\n",
    "point.Translate(1, -1);\n",
    "point"
   ]
  },
  {
   "cell_type": "code",
   "execution_count": null,
   "metadata": {},
   "outputs": [],
   "source": []
  }
 ],
 "metadata": {
  "kernelspec": {
   "display_name": ".NET (C#)",
   "language": "C#",
   "name": ".net-csharp"
  },
  "language_info": {
   "file_extension": ".cs",
   "mimetype": "text/x-csharp",
   "name": "C#",
   "pygments_lexer": "csharp",
   "version": "8.0"
  }
 },
 "nbformat": 4,
 "nbformat_minor": 4
}
